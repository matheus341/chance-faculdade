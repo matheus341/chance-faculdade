{
  "nbformat": 4,
  "nbformat_minor": 0,
  "metadata": {
    "colab": {
      "name": "regressaoTensorFlow.ipynb",
      "provenance": [],
      "authorship_tag": "ABX9TyP2K7qwsj3SQdcEQLw4GULj",
      "include_colab_link": true
    },
    "kernelspec": {
      "name": "python3",
      "display_name": "Python 3"
    },
    "language_info": {
      "name": "python"
    }
  },
  "cells": [
    {
      "cell_type": "markdown",
      "metadata": {
        "id": "view-in-github",
        "colab_type": "text"
      },
      "source": [
        "<a href=\"https://colab.research.google.com/github/matheus341/chance-faculdade/blob/main/regressaoTensorFlow.ipynb\" target=\"_parent\"><img src=\"https://colab.research.google.com/assets/colab-badge.svg\" alt=\"Open In Colab\"/></a>"
      ]
    },
    {
      "cell_type": "code",
      "source": [
        "import numpy as np\n",
        "import pandas as pd\n",
        "import tensorflow as tf\n",
        "import datetime\n",
        "import os\n",
        "os.environ['TF_CPP_MIN_LOG_LEVEL'] = '3'\n",
        "from sklearn.model_selection import train_test_split"
      ],
      "metadata": {
        "id": "8lETzOWiyJM4"
      },
      "execution_count": 1,
      "outputs": []
    },
    {
      "cell_type": "code",
      "source": [
        "# Carregando o dataset\n",
        "data = pd.read_csv('dataset.csv')"
      ],
      "metadata": {
        "id": "HIRSXeuuyKXf"
      },
      "execution_count": 2,
      "outputs": []
    },
    {
      "cell_type": "code",
      "source": [
        "# Separando variáveis numéricas e categóricas\n",
        "\n",
        "# Normalizando as variáveis numércas\n",
        "continuous_features = data[ ['GRE Score','TOEFL Score','University Rating','SOP','LOR','CGPA'] ].values / 100 \n",
        "\n",
        "# Coletando a variável categórica\n",
        "categorical_research_features = data[ [ 'Research' ] ].values "
      ],
      "metadata": {
        "id": "4atmsSB2yTEA"
      },
      "execution_count": 3,
      "outputs": []
    },
    {
      "cell_type": "code",
      "source": [
        "# Contatenando as variáveis de entrada em X\n",
        "X = np.concatenate( [ continuous_features , categorical_research_features ] , axis=1 )\n",
        "\n",
        "# Variável resposta em Y\n",
        "Y = data[ [ 'Chance of Admit' ] ].values"
      ],
      "metadata": {
        "id": "WNLtoJVoyTI1"
      },
      "execution_count": 4,
      "outputs": []
    },
    {
      "cell_type": "code",
      "source": [
        "# Separando os dados em treino e teste\n",
        "train_features, test_features, train_labels, test_labels = train_test_split( X , Y , test_size=0.2 )\n",
        "\n",
        "# Convertendo os dados de treino em tensores constantes e armazenando em X e Y\n",
        "X_treino = tf.constant( train_features , dtype=tf.float32 )\n",
        "Y_treino = tf.constant( train_labels , dtype=tf.float32 ) \n",
        "                  \n",
        "# Mesma tarefa anterior com os dados de teste\n",
        "X_teste = tf.constant( test_features , dtype=tf.float32 ) \n",
        "Y_teste = tf.constant( test_labels , dtype=tf.float32 ) "
      ],
      "metadata": {
        "id": "xRNp2PkYyTOi"
      },
      "execution_count": 5,
      "outputs": []
    },
    {
      "cell_type": "code",
      "source": [
        "# Função para calcular o erro quadrado médio\n",
        "def mean_squared_error( Y , y_pred ):\n",
        "    return tf.reduce_mean( tf.square( y_pred - Y ) )\n",
        "\n",
        "# Função para calcular a derivada do erro\n",
        "def mean_squared_error_deriv( Y , y_pred ):\n",
        "    return tf.reshape( tf.reduce_mean( 2 * ( y_pred - Y ) ) , [ 1 , 1 ] )"
      ],
      "metadata": {
        "id": "Hi1bdN73yKgH"
      },
      "execution_count": 6,
      "outputs": []
    },
    {
      "cell_type": "code",
      "source": [
        "# Função para calcular a hipótese (aproximação da função alvo)\n",
        "def h ( X , weights , bias ):\n",
        "    return tf.tensordot( X , weights , axes=1 ) + bias\n",
        "\n",
        "# Inicializando os hiperparâmetros\n",
        "num_epochs = 10\n",
        "num_samples = X_treino.shape[0]\n",
        "batch_size = 10\n",
        "learning_rate = 0.001\n",
        "\n",
        "num_features = X_treino.shape[1]\n"
      ],
      "metadata": {
        "id": "CAkLdzxqyKlV"
      },
      "execution_count": 7,
      "outputs": []
    },
    {
      "cell_type": "code",
      "source": [
        "\n",
        "# Inicializando os pesos com valores aleartórios\n",
        "weights = tf.random.normal( ( num_features , 1 ) ) \n",
        "bias = 0\n",
        "\n",
        "epochs_plot = list()\n",
        "loss_plot = list()"
      ],
      "metadata": {
        "id": "kXFMXUGTyKr_"
      },
      "execution_count": 8,
      "outputs": []
    },
    {
      "cell_type": "code",
      "source": [
        "\n",
        "# Coletando amostras dos dados para o treinamento e criando um iterador\n",
        "dataset = tf.data.Dataset.from_tensor_slices(( X_treino , Y_treino )) \n",
        "dataset = dataset.shuffle( 500 ).repeat( num_epochs ).batch( batch_size )\n",
        "iterator = dataset.__iter__()"
      ],
      "metadata": {
        "id": "iz9d6dv9yKzZ"
      },
      "execution_count": 9,
      "outputs": []
    },
    {
      "cell_type": "code",
      "source": [
        "\n",
        "# Variáveis para o TensorBoard (substitua dmpm pelo seu usuário ao executar no Titan)\n",
        "current_time = datetime.datetime.now().strftime(\"%Y%m%d-%H%M%S\")\n",
        "train_log_dir = '/Desktop/IA_modelo/logregmodel/' + current_time + '/train'\n",
        "train_summary_writer = tf.summary.create_file_writer(train_log_dir)\n"
      ],
      "metadata": {
        "id": "wgypnIeIyn-d"
      },
      "execution_count": 10,
      "outputs": []
    },
    {
      "cell_type": "code",
      "source": [
        "print('\\nIniciando o Treinamento:')\n",
        "\n",
        "# Loop para o treinamento\n",
        "for i in range( num_epochs ) :\n",
        "    \n",
        "    epoch_loss = list()\n",
        "\n",
        "    for b in range( int(num_samples/batch_size) ):\n",
        "\n",
        "        x_batch , y_batch = iterator.get_next()\n",
        "   \n",
        "        output = h( x_batch , weights , bias ) \n",
        "        loss = epoch_loss.append( mean_squared_error( y_batch , output ).numpy() )\n",
        "    \n",
        "        dJ_dH = mean_squared_error_deriv( y_batch , output )\n",
        "        dH_dW = x_batch\n",
        "        dJ_dW = tf.reduce_mean( dJ_dH * dH_dW )\n",
        "        dJ_dB = tf.reduce_mean( dJ_dH )\n",
        "    \n",
        "        weights -= ( learning_rate * dJ_dW )\n",
        "        bias -= ( learning_rate * dJ_dB ) \n",
        "        \n",
        "    loss = np.array( epoch_loss ).mean()\n",
        "    epochs_plot.append( i + 1 )\n",
        "    loss_plot.append( loss ) \n",
        "\n",
        "    with train_summary_writer.as_default():\n",
        "        tf.summary.scalar('loss', loss, step=i)\n",
        "    \n",
        "    print( 'A taxa de erro é igual a {}'.format( loss ) ) "
      ],
      "metadata": {
        "colab": {
          "base_uri": "https://localhost:8080/"
        },
        "id": "3EvKJdDgyoCF",
        "outputId": "bcd4a1b5-1016-448b-f675-efb3215ed84f"
      },
      "execution_count": 11,
      "outputs": [
        {
          "output_type": "stream",
          "name": "stdout",
          "text": [
            "\n",
            "Iniciando o Treinamento:\n",
            "A taxa de erro é igual a 6.889231204986572\n",
            "A taxa de erro é igual a 3.3233370780944824\n",
            "A taxa de erro é igual a 1.60693359375\n",
            "A taxa de erro é igual a 0.7807536125183105\n",
            "A taxa de erro é igual a 0.3838094174861908\n",
            "A taxa de erro é igual a 0.19319258630275726\n",
            "A taxa de erro é igual a 0.1017216295003891\n",
            "A taxa de erro é igual a 0.05771241709589958\n",
            "A taxa de erro é igual a 0.03671150282025337\n",
            "A taxa de erro é igual a 0.026674414053559303\n"
          ]
        }
      ]
    },
    {
      "cell_type": "code",
      "source": [
        "# Plot do resultado do treino\n",
        "import matplotlib.pyplot as plt\n",
        "plt.plot( epochs_plot , loss_plot ) \n",
        "plt.show()\n",
        "\n",
        "# Gera previsões com os dados de teste\n",
        "output = h( X_teste , weights , bias ) \n",
        "labels = Y_teste\n",
        "\n",
        "# Calcula a acurácia\n",
        "accuracy_op = tf.metrics.MeanAbsoluteError() \n",
        "accuracy_op.update_state( labels , output )\n",
        "print( '\\nMean Absolute Error (MAE) = {}'.format( accuracy_op.result().numpy() ) )\n",
        "print('\\n')\n",
        "\n",
        "print('\\nUm estudante com as características abaixo:')\n",
        "tf.print(X_teste[0,:])\n",
        "print('\\nTeria o seguinte percentual de ser admitido na Universidade:')\n",
        "tf.print(Y_teste[0] * 100)\n",
        "print('\\n')"
      ],
      "metadata": {
        "colab": {
          "base_uri": "https://localhost:8080/",
          "height": 480
        },
        "id": "DePvCSBfyoGM",
        "outputId": "85ba6e87-679c-48e3-88ea-2e60914622f0"
      },
      "execution_count": 12,
      "outputs": [
        {
          "output_type": "display_data",
          "data": {
            "text/plain": [
              "<Figure size 432x288 with 1 Axes>"
            ],
            "image/png": "[encoded data removed]"
          },
          "metadata": {
            "needs_background": "light"
          }
        },
        {
          "output_type": "stream",
          "name": "stdout",
          "text": [
            "\n",
            "Mean Absolute Error (MAE) = 0.10181192308664322\n",
            "\n",
            "\n",
            "\n",
            "Um estudante com as características abaixo:\n",
            "[3.19 1.06 0.03 ... 0.03 0.08 1]\n",
            "\n",
            "Teria o seguinte percentual de ser admitido na Universidade:\n",
            "[65]\n",
            "\n",
            "\n"
          ]
        }
      ]
    },
    {
      "cell_type": "code",
      "execution_count": 13,
      "metadata": {
        "id": "aJDzsVCSs1ns"
      },
      "outputs": [],
      "source": [
        "# Para inicializar o TensorBoard, execute esse comando no terminal: tensorboard --logdir=/tmp/dmpm/logregmodel\n",
        "# (substitua dmpm pelo seu usuário ao executar no Titan)\n",
        "\n",
        "\n",
        "\n",
        "\n"
      ]
    }
  ]
}